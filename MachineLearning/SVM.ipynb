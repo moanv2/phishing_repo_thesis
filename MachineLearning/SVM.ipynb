{
 "cells": [
  {
   "metadata": {},
   "cell_type": "markdown",
   "source": [
    "the authors developed a web-based AI platform for detecting phishing emails, employing ML models such as Support Vector Machine (SVM), multinomial naive Bayes, and random forest. These models used Term Frequency-Inverse Document Frequency (TF-IDF) for feature extraction.\n",
    "\n",
    "https://www.sciencedirect.com/science/article/pii/S0045790624005524\n",
    "\n",
    "## Al-Subaiey et al; 2024 features\n",
    "1. Used TF-IDF for feature extraction\n",
    "\n",
    "## Features from Khonji et al; 2012 ##\n",
    "\n",
    "1.   b_dear = Binaray feature that returns 1 if word \"dear\" is found in the body of the message , else 0\n",
    "2.   b_form = Does the message contain HTML form? (binary)\n",
    "3. b_numwords = Total number of words found in body (cont.)\n",
    "4. b_numchr = Total number of characters found in body (cont.)\n",
    "5. b_numunique = A feature that returns the\n",
    "total number of unique words found in the body a given\n",
    "email message\n",
    "6. b_numfunct = A feature that returns\n",
    "the total number of function words found in the body of\n",
    "a given email"
   ],
   "id": "ff3a458e92b909bf"
  },
  {
   "cell_type": "code",
   "id": "initial_id",
   "metadata": {
    "collapsed": true,
    "ExecuteTime": {
     "end_time": "2025-04-21T08:34:07.519914Z",
     "start_time": "2025-04-21T08:34:03.755595Z"
    }
   },
   "source": [
    "# Import necessary libraries\n",
    "import os\n",
    "import pandas as pd\n",
    "import numpy as np\n",
    "import matplotlib.pyplot as plt\n",
    "import seaborn as sns\n",
    "import re\n",
    "import email\n",
    "from datetime import datetime\n",
    "from wordcloud import WordCloud\n",
    "import nltk\n",
    "from bs4 import BeautifulSoup\n",
    "from nltk.corpus import stopwords\n",
    "from nltk.tokenize import word_tokenize\n",
    "from nltk.util import ngrams\n",
    "import matplotlib.ticker as ticker"
   ],
   "outputs": [],
   "execution_count": 1
  },
  {
   "metadata": {
    "ExecuteTime": {
     "end_time": "2025-04-21T08:35:09.657830Z",
     "start_time": "2025-04-21T08:35:09.240213Z"
    }
   },
   "cell_type": "code",
   "source": [
    "df_train = pd.read_csv('D:\\\\phishing_repo_thesis\\\\balanced_data_files\\\\train_raw.csv')\n",
    "df_test = pd.read_csv('D:\\\\phishing_repo_thesis\\\\balanced_data_files\\\\test_raw.csv')\n",
    "df_val = pd.read_csv('D:\\\\phishing_repo_thesis\\\\balanced_data_files\\\\val_raw.csv')"
   ],
   "id": "a3f5aea2c2d3bd6e",
   "outputs": [],
   "execution_count": 2
  },
  {
   "metadata": {
    "ExecuteTime": {
     "end_time": "2025-04-21T08:35:13.017184Z",
     "start_time": "2025-04-21T08:35:13.009954Z"
    }
   },
   "cell_type": "code",
   "source": [
    "def extract_features(df):\n",
    "    # Initialize a dataframe to store features\n",
    "    features_df = pd.DataFrame()\n",
    "\n",
    "    # 1. b_dear - Binary feature for \"dear\" in body\n",
    "    features_df['b_dear'] = df['Email Text'].apply(\n",
    "        lambda x: 1 if 'dear' in str(x).lower() else 0\n",
    "    )\n",
    "\n",
    "    # 2. b_form - Does the message contain HTML form?\n",
    "    features_df['b_form'] = df['Email Text'].apply(\n",
    "        lambda x: 1 if '<form' in str(x).lower() else 0\n",
    "    )\n",
    "\n",
    "    # 3. b_numwords - Total number of words in body\n",
    "    features_df['b_numwords'] = df['Email Text'].apply(\n",
    "        lambda x: len(str(x).split())\n",
    "    )\n",
    "\n",
    "    # 4. b_numchr - Total number of characters in body\n",
    "    features_df['b_numchr'] = df['Email Text'].apply(\n",
    "        lambda x: len(str(x))\n",
    "    )\n",
    "\n",
    "    # 5. b_numunique - Total number of unique words\n",
    "    features_df['b_numunique'] = df['Email Text'].apply(\n",
    "        lambda x: len(set(str(x).lower().split()))\n",
    "    )\n",
    "\n",
    "    # 6. b_numfunct - Function words in body\n",
    "    function_words = {\n",
    "    \"account\", \"access\", \"bank\", \"credit\", \"click\", \"identity\",\n",
    "    \"inconvenience\", \"information\", \"limited\", \"log\", \"minutes\",\n",
    "    \"password\", \"recently\", \"risk\", \"social\", \"security\",\n",
    "    \"service\", \"suspended\"\n",
    "    }\n",
    "\n",
    "    features_df['b_numfunct'] = df['Email Text'].apply(\n",
    "        lambda x: sum(1 for word in str(x).lower().split() if word in function_words)\n",
    "    )\n",
    "\n",
    "    # Add target variable\n",
    "    if 'Email Type' in df.columns:\n",
    "        features_df['Email Type'] = df['Email Type']\n",
    "\n",
    "    # THIS IS THE MISSING LINE\n",
    "    return features_df"
   ],
   "id": "1fd65385b0d55e8d",
   "outputs": [],
   "execution_count": 3
  },
  {
   "metadata": {
    "ExecuteTime": {
     "end_time": "2025-04-21T08:35:18.086316Z",
     "start_time": "2025-04-21T08:35:16.421497Z"
    }
   },
   "cell_type": "code",
   "source": [
    "# Extract features for each dataset\n",
    "train_features = extract_features(df_train)\n",
    "val_features = extract_features(df_val)\n",
    "test_features = extract_features(df_test)\n",
    "\n",
    "# Display feature statistics\n",
    "print(\"Training set features shape:\", train_features.shape)\n",
    "print(\"Validation set features shape:\", val_features.shape)\n",
    "print(\"Test set features shape:\", test_features.shape)\n",
    "\n",
    "# Display some sample data\n",
    "print(\"\\nSample of training features:\")\n",
    "print(train_features.head())\n",
    "\n",
    "# Check for any missing values\n",
    "print(\"\\nMissing values in training set:\")\n",
    "print(train_features.isnull().sum())"
   ],
   "id": "89e2e6724dff3c01",
   "outputs": [
    {
     "name": "stdout",
     "output_type": "stream",
     "text": [
      "Training set features shape: (13054, 7)\n",
      "Validation set features shape: (2798, 7)\n",
      "Test set features shape: (2798, 7)\n",
      "\n",
      "Sample of training features:\n",
      "   b_dear  b_form  b_numwords  b_numchr  b_numunique  b_numfunct  \\\n",
      "0       0       0         142       983          107           1   \n",
      "1       0       0         291      3130          175           1   \n",
      "2       0       0          42       221           35           0   \n",
      "3       0       0          44       187           36           0   \n",
      "4       0       0           6        34            6           0   \n",
      "\n",
      "       Email Type  \n",
      "0  Phishing Email  \n",
      "1      Safe Email  \n",
      "2      Safe Email  \n",
      "3      Safe Email  \n",
      "4  Phishing Email  \n",
      "\n",
      "Missing values in training set:\n",
      "b_dear         0\n",
      "b_form         0\n",
      "b_numwords     0\n",
      "b_numchr       0\n",
      "b_numunique    0\n",
      "b_numfunct     0\n",
      "Email Type     0\n",
      "dtype: int64\n"
     ]
    }
   ],
   "execution_count": 4
  },
  {
   "metadata": {
    "ExecuteTime": {
     "end_time": "2025-04-21T08:35:27.006357Z",
     "start_time": "2025-04-21T08:35:26.963156Z"
    }
   },
   "cell_type": "code",
   "source": [
    "# Feature summary and significance\n",
    "\n",
    "train_features['target'] = train_features['Email Type'].apply(\n",
    "    lambda x: 1 if x == 'Phishing Email' else 0\n",
    ")\n",
    "\n",
    "b_features = ['b_dear', 'b_form', 'b_numwords', 'b_numchr', 'b_numunique', 'b_numfunct']\n",
    "\n",
    "# Corr with phishing emails\n",
    "b_feature_correlation = []\n",
    "for feature in b_features:\n",
    "    corr = train_features[feature].corr(train_features['target'])\n",
    "    b_feature_correlation.append(corr)\n",
    "\n",
    "for feature, corr in zip(b_features, b_feature_correlation):\n",
    "    print(f\"{feature}: {corr:.4f}\")"
   ],
   "id": "359dee6825c6305b",
   "outputs": [
    {
     "name": "stdout",
     "output_type": "stream",
     "text": [
      "b_dear: 0.0851\n",
      "b_form: nan\n",
      "b_numwords: -0.0083\n",
      "b_numchr: -0.0084\n",
      "b_numunique: -0.0227\n",
      "b_numfunct: -0.0041\n"
     ]
    },
    {
     "name": "stderr",
     "output_type": "stream",
     "text": [
      "D:\\.venv\\Lib\\site-packages\\numpy\\lib\\function_base.py:2853: RuntimeWarning: invalid value encountered in divide\n",
      "  c /= stddev[:, None]\n",
      "D:\\.venv\\Lib\\site-packages\\numpy\\lib\\function_base.py:2854: RuntimeWarning: invalid value encountered in divide\n",
      "  c /= stddev[None, :]\n"
     ]
    }
   ],
   "execution_count": 5
  },
  {
   "metadata": {
    "ExecuteTime": {
     "end_time": "2025-04-21T08:35:56.078116Z",
     "start_time": "2025-04-21T08:35:53.134523Z"
    }
   },
   "cell_type": "code",
   "source": [
    "import pandas as pd\n",
    "import numpy as np\n",
    "from sklearn.feature_extraction.text import TfidfVectorizer\n",
    "from scipy.sparse import hstack\n",
    "\n",
    "def extract_tfidf_features(df_train, df_test, df_val=None, max_features=100, custom_vocabulary=None):\n",
    "    \"\"\"\n",
    "    Extract TF-IDF features from email text and add them to existing features.\n",
    "\n",
    "    Parameters:\n",
    "    -----------\n",
    "    df_train : DataFrame\n",
    "        Training dataset with 'Email Text' column\n",
    "    df_test : DataFrame\n",
    "        Test dataset with 'Email Text' column\n",
    "    df_val : DataFrame, optional\n",
    "        Validation dataset with 'Email Text' column\n",
    "    max_features : int, default=100\n",
    "        Maximum number of TF-IDF features to extract\n",
    "    custom_vocabulary : list, optional\n",
    "        List of specific terms to use in TF-IDF. If None, uses top max_features terms.\n",
    "\n",
    "    Returns:\n",
    "    --------\n",
    "    tuple of DataFrames\n",
    "        (train_features, test_features, val_features) with TF-IDF features added\n",
    "    \"\"\"\n",
    "    # Initialize TF-IDF vectorizer\n",
    "    tfidf_vectorizer = TfidfVectorizer(\n",
    "        max_features=max_features,\n",
    "        stop_words='english',\n",
    "        lowercase=True,\n",
    "        vocabulary=custom_vocabulary,\n",
    "        ngram_range=(1, 2)  # Include unigrams and bigrams\n",
    "    )\n",
    "\n",
    "    # Fit and transform on training data\n",
    "    tfidf_train = tfidf_vectorizer.fit_transform(df_train['Email Text'].astype(str))\n",
    "\n",
    "    # Transform test data\n",
    "    tfidf_test = tfidf_vectorizer.transform(df_test['Email Text'].astype(str))\n",
    "\n",
    "    # Transform validation data if provided\n",
    "    if df_val is not None:\n",
    "        tfidf_val = tfidf_vectorizer.transform(df_val['Email Text'].astype(str))\n",
    "\n",
    "    # Get feature names\n",
    "    feature_names = tfidf_vectorizer.get_feature_names_out()\n",
    "\n",
    "    # Convert TF-IDF matrices to DataFrames\n",
    "    tfidf_train_df = pd.DataFrame(\n",
    "        tfidf_train.toarray(),\n",
    "        columns=[f'tfidf_{term}' for term in feature_names]\n",
    "    )\n",
    "\n",
    "    tfidf_test_df = pd.DataFrame(\n",
    "        tfidf_test.toarray(),\n",
    "        columns=[f'tfidf_{term}' for term in feature_names]\n",
    "    )\n",
    "\n",
    "    if df_val is not None:\n",
    "        tfidf_val_df = pd.DataFrame(\n",
    "            tfidf_val.toarray(),\n",
    "            columns=[f'tfidf_{term}' for term in feature_names]\n",
    "        )\n",
    "\n",
    "    # Add original indices\n",
    "    tfidf_train_df.index = df_train.index\n",
    "    tfidf_test_df.index = df_test.index\n",
    "    if df_val is not None:\n",
    "        tfidf_val_df.index = df_val.index\n",
    "\n",
    "    # Create return values\n",
    "    if df_val is not None:\n",
    "        return tfidf_train_df, tfidf_test_df, tfidf_val_df, feature_names\n",
    "    else:\n",
    "        return tfidf_train_df, tfidf_test_df, None, feature_names\n",
    "\n",
    "\n",
    "# Example usage:\n",
    "# Define phishing-related terms you want to specifically look for\n",
    "phishing_vocabulary = [\n",
    "    # Authentication and account-related\n",
    "    'account', 'password', 'login', 'verify', 'confirmation', 'security',\n",
    "    # Action words\n",
    "    'update', 'confirm', 'validate', 'click', 'secure',\n",
    "    # Urgency terms\n",
    "    'urgent', 'immediately', 'alert', 'attention', 'important',\n",
    "    # Banking and financial\n",
    "    'bank', 'paypal', 'transaction', 'suspended', 'limited', 'access',\n",
    "    # Common bigrams in phishing\n",
    "    'account access', 'verify account', 'update information', 'security alert',\n",
    "    'unusual activity', 'login attempt', 'confirm identity', 'account suspended',\n",
    "    'security measure', 'customer service'\n",
    "]\n",
    "\n",
    "# Extract TF-IDF features using custom vocabulary\n",
    "tfidf_train, tfidf_test, tfidf_val, feature_names = extract_tfidf_features(\n",
    "    df_train,\n",
    "    df_test,\n",
    "    df_val,\n",
    "    max_features=None,  # When using custom vocabulary, set to None\n",
    "    custom_vocabulary=phishing_vocabulary\n",
    ")\n",
    "\n",
    "# Combine with existing features\n",
    "train_features_with_tfidf = pd.concat([train_features, tfidf_train], axis=1)\n",
    "test_features_with_tfidf = pd.concat([test_features, tfidf_test], axis=1)\n",
    "val_features_with_tfidf = pd.concat([val_features, tfidf_val], axis=1)\n",
    "\n",
    "# Now you can see which TF-IDF features are most correlated with phishing\n",
    "# First, ensure we have the target column\n",
    "train_features_with_tfidf['target'] = train_features_with_tfidf['Email Type'].apply(\n",
    "    lambda x: 1 if x == 'Phishing Email' else 0\n",
    ")\n",
    "\n",
    "# Calculate correlation for TF-IDF features\n",
    "tfidf_correlations = []\n",
    "for feature in feature_names:\n",
    "    feature_name = f'tfidf_{feature}'\n",
    "    corr = train_features_with_tfidf[feature_name].corr(train_features_with_tfidf['target'])\n",
    "    tfidf_correlations.append((feature, corr))\n",
    "\n",
    "# Sort by absolute correlation\n",
    "tfidf_correlations.sort(key=lambda x: abs(x[1]), reverse=True)\n",
    "\n",
    "# Print top correlated TF-IDF features\n",
    "print(\"Top 5 TF-IDF features by correlation with phishing:\")\n",
    "for term, corr in tfidf_correlations[:5]:\n",
    "    print(f\"TF-IDF_{term}: {corr:.4f}\")"
   ],
   "id": "5ba2fff397b979c8",
   "outputs": [
    {
     "name": "stdout",
     "output_type": "stream",
     "text": [
      "Top 5 TF-IDF features by correlation with phishing:\n",
      "TF-IDF_click: 0.2478\n",
      "TF-IDF_update: -0.1001\n",
      "TF-IDF_secure: 0.0866\n",
      "TF-IDF_security: 0.0856\n",
      "TF-IDF_bank: 0.0784\n"
     ]
    }
   ],
   "execution_count": 6
  },
  {
   "metadata": {
    "ExecuteTime": {
     "end_time": "2025-04-21T08:36:30.964497Z",
     "start_time": "2025-04-21T08:36:30.951946Z"
    }
   },
   "cell_type": "code",
   "source": [
    "# Modify so only the top 5 features are showed plus the original Khonji et a. 2012\n",
    "# Define the features to keep\n",
    "selected_features = [\n",
    "    'tfidf_click', 'tfidf_update', 'tfidf_secure', 'tfidf_security', 'tfidf_bank',\n",
    "    'b_dear', 'b_form', 'b_numwords', 'b_numchr', 'b_numunique', 'b_numfunct'\n",
    "]\n",
    "\n",
    "# Keep only the selected features (this will modify the DataFrame in place)\n",
    "train_features_with_tfidf = train_features_with_tfidf[selected_features]\n",
    "\n",
    "# test to see it it worked\n",
    "print(train_features_with_tfidf.head(10))"
   ],
   "id": "22ca3e7f0f0afab8",
   "outputs": [
    {
     "name": "stdout",
     "output_type": "stream",
     "text": [
      "   tfidf_click  tfidf_update  tfidf_secure  tfidf_security  tfidf_bank  \\\n",
      "0          0.0           0.0           0.0             0.0         0.0   \n",
      "1          0.0           0.0           0.0             0.0         0.0   \n",
      "2          0.0           0.0           0.0             0.0         0.0   \n",
      "3          0.0           0.0           0.0             0.0         0.0   \n",
      "4          0.0           0.0           0.0             0.0         0.0   \n",
      "5          1.0           0.0           0.0             0.0         0.0   \n",
      "6          0.0           0.0           0.0             0.0         0.0   \n",
      "7          1.0           0.0           0.0             0.0         0.0   \n",
      "8          0.0           0.0           0.0             0.0         0.0   \n",
      "9          0.0           0.0           0.0             0.0         0.0   \n",
      "\n",
      "   b_dear  b_form  b_numwords  b_numchr  b_numunique  b_numfunct  \n",
      "0       0       0         142       983          107           1  \n",
      "1       0       0         291      3130          175           1  \n",
      "2       0       0          42       221           35           0  \n",
      "3       0       0          44       187           36           0  \n",
      "4       0       0           6        34            6           0  \n",
      "5       0       0           6       152            6           0  \n",
      "6       0       0           1         5            1           0  \n",
      "7       0       0         100       521           74           3  \n",
      "8       0       0          20       128           18           0  \n",
      "9       0       0          90       509           74           0  \n"
     ]
    }
   ],
   "execution_count": 8
  },
  {
   "metadata": {
    "ExecuteTime": {
     "end_time": "2025-04-21T10:44:26.790733Z",
     "start_time": "2025-04-21T10:44:24.204284Z"
    }
   },
   "cell_type": "code",
   "source": [
    "from sklearn.feature_extraction.text import TfidfVectorizer\n",
    "\n",
    "# Create and fit the TF-IDF vectorizer\n",
    "tfidf_vectorizer = TfidfVectorizer(\n",
    "    max_features=100,  # Adjust as needed\n",
    "    stop_words='english',\n",
    "    lowercase=True\n",
    ")\n",
    "\n",
    "# Extract TF-IDF features from training data\n",
    "tfidf_train = tfidf_vectorizer.fit_transform(df_train['Email Text'].astype(str))\n",
    "\n",
    "# Convert to DataFrame with labeled columns\n",
    "feature_names = tfidf_vectorizer.get_feature_names_out()\n",
    "tfidf_train_df = pd.DataFrame(\n",
    "    tfidf_train.toarray(),\n",
    "    columns=[f'tfidf_{term}' for term in feature_names],\n",
    "    index=df_train.index\n",
    ")\n",
    "\n",
    "tfidf_test = tfidf_vectorizer.transform(df_test['Email Text'].astype(str))\n",
    "\n",
    "# Convert to DataFrame with the same columns\n",
    "tfidf_test_df = pd.DataFrame(\n",
    "    tfidf_test.toarray(),\n",
    "    columns=[f'tfidf_{term}' for term in feature_names],\n",
    "    index=df_test.index\n",
    ")\n",
    "\n",
    "# Combine with existing test features\n",
    "test_features_with_tfidf = pd.concat([test_features, tfidf_test_df], axis=1)\n",
    "\n",
    "# Combine with existing features\n",
    "train_features_with_tfidf = pd.concat([train_features, tfidf_train_df], axis=1)"
   ],
   "id": "2e38ca5b6295c234",
   "outputs": [],
   "execution_count": 37
  },
  {
   "metadata": {
    "ExecuteTime": {
     "end_time": "2025-04-21T10:44:28.938369Z",
     "start_time": "2025-04-21T10:44:28.933138Z"
    }
   },
   "cell_type": "code",
   "source": [
    "# Print the first 20 TF-IDF feature names to see what's available\n",
    "print(list(tfidf_train_df.columns)[:20])"
   ],
   "id": "92032943e015a5e5",
   "outputs": [
    {
     "name": "stdout",
     "output_type": "stream",
     "text": [
      "['tfidf_00', 'tfidf_000', 'tfidf_10', 'tfidf_11', 'tfidf_12', 'tfidf_15', 'tfidf_1998', 'tfidf_20', 'tfidf_2000', 'tfidf_2001', 'tfidf_30', 'tfidf_50', 'tfidf_address', 'tfidf_available', 'tfidf_based', 'tfidf_best', 'tfidf_book', 'tfidf_business', 'tfidf_case', 'tfidf_click']\n"
     ]
    }
   ],
   "execution_count": 38
  },
  {
   "metadata": {
    "ExecuteTime": {
     "end_time": "2025-04-21T10:44:30.851661Z",
     "start_time": "2025-04-21T10:44:30.845376Z"
    }
   },
   "cell_type": "code",
   "source": "print(selected_features)",
   "id": "d206a7c2dde4ef42",
   "outputs": [
    {
     "name": "stdout",
     "output_type": "stream",
     "text": [
      "['tfidf_click', 'tfidf_address', 'tfidf_available', 'tfidf_business', 'tfidf_case', 'b_dear', 'b_form', 'b_numwords', 'b_numchr', 'b_numunique', 'b_numfunct']\n"
     ]
    }
   ],
   "execution_count": 39
  },
  {
   "metadata": {
    "ExecuteTime": {
     "end_time": "2025-04-21T10:45:17.750021Z",
     "start_time": "2025-04-21T10:44:39.794464Z"
    }
   },
   "cell_type": "code",
   "source": [
    "from sklearn.ensemble import RandomForestClassifier\n",
    "from sklearn.metrics import classification_report, accuracy_score\n",
    "from sklearn.model_selection import cross_val_score, GridSearchCV\n",
    "from sklearn.svm import LinearSVC,SVC\n",
    "\n",
    "# Define the features to use\n",
    "# Hardcoding them just in case, errors last time\n",
    "selected_features = [\n",
    "    'tfidf_click', 'tfidf_address', 'tfidf_available', 'tfidf_business', 'tfidf_case',\n",
    "    'b_dear', 'b_form', 'b_numwords', 'b_numchr', 'b_numunique', 'b_numfunct'\n",
    "]\n",
    "\n",
    "# Split into features and target\n",
    "X_train = train_features_with_tfidf[selected_features]\n",
    "y_train = df_train['Email Type']\n",
    "\n",
    "# Split test data into features and target using the same selected features\n",
    "X_test = test_features_with_tfidf[selected_features]\n",
    "y_test = df_test['Email Type']\n",
    "\n",
    "\n",
    "# SVC based off Al-Subaiey et al\n",
    "\n",
    "# Hyperparameters\n",
    "svc_hyperparams = {\n",
    "    'C': [0.1, 1, 10],\n",
    "    'kernel': ['linear'],\n",
    "    'class_weight': [None, 'balanced'],\n",
    "}\n",
    "\n",
    "# SVC base model\n",
    "svc_base = SVC(\n",
    "    random_state=42,\n",
    "    max_iter = 3000,\n",
    ")\n",
    "\n",
    "#Grid Search SVC\n",
    "grid_search = GridSearchCV(\n",
    "    estimator=svc_base,\n",
    "    param_grid=svc_hyperparams,\n",
    "    cv=10,  # 3-fold cross-validation\n",
    "    n_jobs=20,  # Use 20 cores as I have 24\n",
    "    verbose=1,  # Print progress\n",
    "    scoring='accuracy',  # Metric to optimize\n",
    ")\n",
    "\n",
    "grid_search.fit(X_train, y_train)\n",
    "\n",
    "# Print the best parameters\n",
    "print(\"\\nBest parameters found:\")\n",
    "print(grid_search.best_params_)\n",
    "print(f\"Best cross-validation accuracy: {grid_search.best_score_:.4f}\")\n",
    "\n",
    "# Get the best model\n",
    "best_svc_model = grid_search.best_estimator_\n",
    "\n",
    "# Evaluate on test set\n",
    "best_y_pred = best_svc_model.predict(X_test)\n",
    "best_test_accuracy = accuracy_score(y_test, best_y_pred)\n",
    "print(f\"\\nTest accuracy with best model: {best_test_accuracy:.4f}\")\n",
    "print(\"\\nClassification Report with best model (Test Set):\")\n",
    "print(classification_report(y_test, best_y_pred))\n"
   ],
   "id": "e08c1d636d48e941",
   "outputs": [
    {
     "name": "stdout",
     "output_type": "stream",
     "text": [
      "Fitting 10 folds for each of 6 candidates, totalling 60 fits\n",
      "\n",
      "Best parameters found:\n",
      "{'C': 0.1, 'class_weight': 'balanced', 'kernel': 'linear'}\n",
      "Best cross-validation accuracy: 0.4853\n",
      "\n",
      "Test accuracy with best model: 0.4014\n",
      "\n",
      "Classification Report with best model (Test Set):\n",
      "                precision    recall  f1-score   support\n",
      "\n",
      "Phishing Email       0.39      0.98      0.56      1099\n",
      "    Safe Email       0.68      0.03      0.05      1699\n",
      "\n",
      "      accuracy                           0.40      2798\n",
      "     macro avg       0.54      0.50      0.31      2798\n",
      "  weighted avg       0.57      0.40      0.25      2798\n",
      "\n"
     ]
    },
    {
     "name": "stderr",
     "output_type": "stream",
     "text": [
      "D:\\.venv\\Lib\\site-packages\\sklearn\\svm\\_base.py:305: ConvergenceWarning: Solver terminated early (max_iter=3000).  Consider pre-processing your data with StandardScaler or MinMaxScaler.\n",
      "  warnings.warn(\n"
     ]
    }
   ],
   "execution_count": 40
  },
  {
   "metadata": {
    "ExecuteTime": {
     "end_time": "2025-04-21T10:46:03.687684Z",
     "start_time": "2025-04-21T10:46:03.118041Z"
    }
   },
   "cell_type": "code",
   "source": [
    "from sklearn.metrics import confusion_matrix, ConfusionMatrixDisplay\n",
    "\n",
    "cm = confusion_matrix(y_test, best_y_pred)\n",
    "\n",
    "# Plot confusion matrix\n",
    "plt.figure(figsize=(8, 6))\n",
    "sns.heatmap(cm, annot=True, fmt='d', cmap='Blues',\n",
    "            xticklabels=np.unique(y_test),\n",
    "            yticklabels=np.unique(y_test))\n",
    "plt.xlabel('Predicted')\n",
    "plt.ylabel('True')\n",
    "plt.title('Confusion Matrix (Test Set)')\n",
    "plt.tight_layout()\n",
    "plt.show()"
   ],
   "id": "86995a693cee6ea4",
   "outputs": [
    {
     "data": {
      "text/plain": [
       "<Figure size 800x600 with 2 Axes>"
      ],
      "image/png": "[encoded data removed]"
     },
     "metadata": {},
     "output_type": "display_data"
    }
   ],
   "execution_count": 42
  },
  {
   "metadata": {},
   "cell_type": "code",
   "outputs": [],
   "execution_count": null,
   "source": "",
   "id": "3d67a34f5616b19e"
  }
 ],
 "metadata": {
  "kernelspec": {
   "display_name": "Python 3",
   "language": "python",
   "name": "python3"
  },
  "language_info": {
   "codemirror_mode": {
    "name": "ipython",
    "version": 2
   },
   "file_extension": ".py",
   "mimetype": "text/x-python",
   "name": "python",
   "nbconvert_exporter": "python",
   "pygments_lexer": "ipython2",
   "version": "2.7.6"
  }
 },
 "nbformat": 4,
 "nbformat_minor": 5
}
