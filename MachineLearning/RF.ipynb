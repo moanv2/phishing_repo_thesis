{
 "cells": [
  {
   "metadata": {},
   "cell_type": "markdown",
   "source": [
    "## Features from Bergholz et al; 2012\n",
    "\n",
    "1. l_numexternal = Number of external links\n",
    "2. l_numdeceptive = Number of deceptive links\n",
    "3. l_sus = Suspicious words in link text\n",
    "4. l_numip = Links with IP addresses\n",
    "\n",
    "## Features from Khonji et al; 2012 ##\n",
    "\n",
    "1.   b_dear = Binaray feature that returns 1 if word \"dear\" is found in the body of the message , else 0\n",
    "2.   b_form = Does the message contain HTML form? (binary)\n",
    "3. b_numwords = Total number of words found in body (cont.)\n",
    "4. b_numchr = Total number of characters found in body (cont.)\n",
    "5. b_numunique = A feature that returns the\n",
    "total number of unique words found in the body a given\n",
    "email message\n",
    "6. b_numfunct = A feature that returns\n",
    "the total number of function words found in the body of\n",
    "a given email\n",
    "\n"
   ],
   "id": "a566c8f87e881790"
  },
  {
   "metadata": {},
   "cell_type": "markdown",
   "source": [
    "## Overall Goal:\n",
    "Identify if the following features from the academic papers can help us increase accuracy in our models"
   ],
   "id": "4cc13d2369ed93ed"
  },
  {
   "metadata": {
    "ExecuteTime": {
     "end_time": "2025-04-09T10:50:58.776846Z",
     "start_time": "2025-04-09T10:50:53.352439Z"
    }
   },
   "cell_type": "code",
   "source": [
    "# Import necessary libraries\n",
    "import os\n",
    "import pandas as pd\n",
    "import numpy as np\n",
    "import matplotlib.pyplot as plt\n",
    "import seaborn as sns\n",
    "import re\n",
    "import email\n",
    "from datetime import datetime\n",
    "import nltk\n",
    "from nltk.corpus import stopwords\n",
    "from nltk.tokenize import word_tokenize\n",
    "from nltk.util import ngrams\n",
    "import matplotlib.ticker as ticker"
   ],
   "id": "d0e9e130db3562c4",
   "outputs": [],
   "execution_count": 1
  },
  {
   "cell_type": "code",
   "execution_count": null,
   "id": "initial_id",
   "metadata": {
    "collapsed": true
   },
   "outputs": [],
   "source": [
    "# EDA (Exploratory Data Analysis)\n",
    "\n",
    "print(\"Dataset Distribution\")\n",
    "class_counts ="
   ]
  }
 ],
 "metadata": {
  "kernelspec": {
   "display_name": "Python 3",
   "language": "python",
   "name": "python3"
  },
  "language_info": {
   "codemirror_mode": {
    "name": "ipython",
    "version": 2
   },
   "file_extension": ".py",
   "mimetype": "text/x-python",
   "name": "python",
   "nbconvert_exporter": "python",
   "pygments_lexer": "ipython2",
   "version": "2.7.6"
  }
 },
 "nbformat": 4,
 "nbformat_minor": 5
}
