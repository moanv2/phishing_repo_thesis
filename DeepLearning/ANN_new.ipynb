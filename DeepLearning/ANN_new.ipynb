{
 "cells": [
  {
   "cell_type": "code",
   "id": "initial_id",
   "metadata": {
    "collapsed": true,
    "ExecuteTime": {
     "end_time": "2025-04-06T14:52:58.992421Z",
     "start_time": "2025-04-06T14:52:27.986406Z"
    }
   },
   "source": [
    "# Import the huggingface dataset\n",
    "from datasets import load_dataset\n",
    "\n",
    "import pandas as pd\n",
    "import numpy as np\n",
    "\n",
    "# DL\n",
    "import torch\n",
    "from torch.utils.data import Dataset\n",
    "\n",
    "# Statistics\n",
    "from sklearn.metrics import accuracy_score, f1_score, precision_score, recall_score\n",
    "from scipy import stats\n",
    "\n",
    "# For text processing\n",
    "import re\n",
    "import string\n",
    "\n",
    "# For sentiment analysis\n",
    "from textblob import TextBlob\n",
    "\n",
    "# For BERT\n",
    "from transformers import BertTokenizer, BertForSequenceClassification, Trainer, TrainingArguments\n",
    "\n",
    "\n",
    "# Visualization\n",
    "import matplotlib.pyplot as plt\n",
    "import seaborn as sns"
   ],
   "outputs": [],
   "execution_count": 2
  },
  {
   "metadata": {
    "ExecuteTime": {
     "end_time": "2025-04-06T14:53:11.425951Z",
     "start_time": "2025-04-06T14:53:11.380456Z"
    }
   },
   "cell_type": "code",
   "source": [
    "device = torch.device(\"cuda\" if torch.cuda.is_available() else \"cpu\")\n",
    "print(device)\n"
   ],
   "id": "e64a232c991e8f41",
   "outputs": [
    {
     "name": "stdout",
     "output_type": "stream",
     "text": [
      "cuda\n"
     ]
    }
   ],
   "execution_count": 3
  },
  {
   "metadata": {
    "ExecuteTime": {
     "end_time": "2025-04-06T14:53:14.030334Z",
     "start_time": "2025-04-06T14:53:13.717160Z"
    }
   },
   "cell_type": "code",
   "source": [
    "# General dataset info\n",
    "train_dl = pd.read_csv('balanced_data_files/train_dl.csv')\n",
    "val_dl = pd.read_csv('balanced_data_files/val_dl.csv')\n",
    "\n",
    "print(train_dl.head())\n",
    "print(train_dl.shape)\n",
    "print(train_dl.info())\n",
    "print(train_dl.columns)"
   ],
   "id": "1c76921472ab72cc",
   "outputs": [
    {
     "name": "stdout",
     "output_type": "stream",
     "text": [
      "                                          Email Text  label\n",
      "0  re : rolex order details - m 3945 s rolex : $ ...      1\n",
      "1  aisb96 call for workshop proposals - - - - - -...      0\n",
      "2  query : not not dear linguists , i am working ...      0\n",
      "3  Update of /cvsroot/spamassassin/spamassassin/m...      0\n",
      "4  URL: http://boingboing.net/#85482211\\nDate: No...      0\n",
      "(13054, 2)\n",
      "<class 'pandas.core.frame.DataFrame'>\n",
      "RangeIndex: 13054 entries, 0 to 13053\n",
      "Data columns (total 2 columns):\n",
      " #   Column      Non-Null Count  Dtype \n",
      "---  ------      --------------  ----- \n",
      " 0   Email Text  13041 non-null  object\n",
      " 1   label       13054 non-null  int64 \n",
      "dtypes: int64(1), object(1)\n",
      "memory usage: 204.1+ KB\n",
      "None\n",
      "Index(['Email Text', 'label'], dtype='object')\n"
     ]
    }
   ],
   "execution_count": 4
  },
  {
   "metadata": {
    "ExecuteTime": {
     "end_time": "2025-04-06T14:53:23.312413Z",
     "start_time": "2025-04-06T14:53:23.306888Z"
    }
   },
   "cell_type": "code",
   "source": [
    "# Step 1 pre-process\n",
    "def preprocess_text(texts, max_len=100, max_words=10000):\n",
    "    \"\"\"\n",
    "    Tokenize and pad text data\n",
    "    \"\"\"\n",
    "    tokenizer = Tokenizer(num_words=max_words)\n",
    "    tokenizer.fit_on_texts(texts)\n",
    "    sequences = tokenizer.texts_to_sequences(texts)\n",
    "    word_index = tokenizer.word_index\n",
    "    padded_sequences = pad_sequences(sequences, maxlen=max_len, padding='post')\n",
    "\n",
    "    print(f\"Vocabulary size: {len(word_index)}\")\n",
    "    print(f\"Example padded sequence shape: {padded_sequences.shape}\")\n",
    "\n",
    "    return padded_sequences, word_index, tokenizer"
   ],
   "id": "363f479e764c80a",
   "outputs": [],
   "execution_count": 5
  },
  {
   "metadata": {
    "ExecuteTime": {
     "end_time": "2025-04-06T14:53:29.843923Z",
     "start_time": "2025-04-06T14:53:29.838019Z"
    }
   },
   "cell_type": "code",
   "source": [
    "# Step 2: Building ANN\n",
    "def build_ann_model(max_len, vocab_size, embedding_dim=100):\n",
    "    \"\"\"\n",
    "    Build and compile a simple ANN model for text classification\n",
    "    \"\"\"\n",
    "    model = Sequential()\n",
    "\n",
    "    # Embedding layer\n",
    "    model.add(Embedding(input_dim=vocab_size+1,\n",
    "                        output_dim=embedding_dim,\n",
    "                        input_length=max_len))\n",
    "\n",
    "    # Flatten the embeddings\n",
    "    model.add(Flatten())\n",
    "\n",
    "    # Dense layers\n",
    "    model.add(Dense(256, activation='relu'))\n",
    "    model.add(Dropout(0.5))\n",
    "    model.add(Dense(128, activation='relu'))\n",
    "    model.add(Dropout(0.3))\n",
    "    model.add(Dense(64, activation='relu'))\n",
    "\n",
    "    # Output layer\n",
    "    model.add(Dense(1, activation='sigmoid'))\n",
    "\n",
    "    # Compile model\n",
    "    model.compile(optimizer='adam',\n",
    "                 loss='binary_crossentropy',\n",
    "                 metrics=['accuracy'])\n",
    "\n",
    "    return model\n"
   ],
   "id": "b902c27c186d8d89",
   "outputs": [],
   "execution_count": 6
  },
  {
   "metadata": {
    "ExecuteTime": {
     "end_time": "2025-04-06T14:54:06.214044Z",
     "start_time": "2025-04-06T14:54:06.208793Z"
    }
   },
   "cell_type": "code",
   "source": [
    "# Step 3: Train the model\n",
    "def train_model(X_train, y_train, X_val, y_val, model, batch_size=32, epochs=1):\n",
    "    \"\"\"\n",
    "     ANN model training function\n",
    "    \"\"\"\n",
    "    history = model.fit(\n",
    "        X_train, y_train,\n",
    "        validation_data=(X_val, y_val),\n",
    "        batch_size=batch_size,\n",
    "        epochs=epochs,\n",
    "        verbose=1\n",
    "    )\n",
    "\n",
    "    return history, model"
   ],
   "id": "250c1581bcf40928",
   "outputs": [],
   "execution_count": 9
  },
  {
   "metadata": {},
   "cell_type": "code",
   "outputs": [],
   "execution_count": null,
   "source": "\n",
   "id": "d77e0fe95fd730c4"
  }
 ],
 "metadata": {
  "kernelspec": {
   "display_name": "Python 3",
   "language": "python",
   "name": "python3"
  },
  "language_info": {
   "codemirror_mode": {
    "name": "ipython",
    "version": 2
   },
   "file_extension": ".py",
   "mimetype": "text/x-python",
   "name": "python",
   "nbconvert_exporter": "python",
   "pygments_lexer": "ipython2",
   "version": "2.7.6"
  }
 },
 "nbformat": 4,
 "nbformat_minor": 5
}
