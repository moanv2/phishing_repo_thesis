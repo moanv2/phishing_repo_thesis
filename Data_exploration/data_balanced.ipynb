{
 "cells": [
  {
   "metadata": {
    "ExecuteTime": {
     "end_time": "2025-04-03T21:07:46.355043Z",
     "start_time": "2025-04-03T21:07:46.350527Z"
    }
   },
   "cell_type": "code",
   "source": [
    "import numpy\n",
    "print(numpy.__version__)"
   ],
   "id": "506e7c6c99015040",
   "outputs": [
    {
     "name": "stdout",
     "output_type": "stream",
     "text": [
      "1.23.5\n"
     ]
    }
   ],
   "execution_count": 1
  },
  {
   "metadata": {
    "ExecuteTime": {
     "end_time": "2025-04-03T21:02:37.923601Z",
     "start_time": "2025-04-03T21:02:37.919071Z"
    }
   },
   "cell_type": "code",
   "source": [
    "import sys\n",
    "print(sys.executable)"
   ],
   "id": "91d9f3547bad30df",
   "outputs": [
    {
     "name": "stdout",
     "output_type": "stream",
     "text": [
      "D:\\.venv\\Scripts\\python.exe\n"
     ]
    }
   ],
   "execution_count": 6
  },
  {
   "metadata": {
    "ExecuteTime": {
     "end_time": "2025-04-03T20:32:06.178886Z",
     "start_time": "2025-04-03T20:32:05.007985Z"
    }
   },
   "cell_type": "code",
   "source": [
    "from datasets import load_dataset\n",
    "\n",
    "data = load_dataset(\"zefang-liu/phishing-email-dataset\")\n",
    "\n",
    "df = data['train'].to_pandas()\n",
    "\n",
    "print(df.head())\n",
    "print(df.info)\n",
    "print(df.shape)\n",
    "print(df.columns)"
   ],
   "id": "ec1cb8bb676331ad",
   "outputs": [
    {
     "ename": "ValueError",
     "evalue": "numpy.dtype size changed, may indicate binary incompatibility. Expected 96 from C header, got 88 from PyObject",
     "output_type": "error",
     "traceback": [
      "\u001B[31m---------------------------------------------------------------------------\u001B[39m",
      "\u001B[31mValueError\u001B[39m                                Traceback (most recent call last)",
      "\u001B[36mCell\u001B[39m\u001B[36m \u001B[39m\u001B[32mIn[2]\u001B[39m\u001B[32m, line 1\u001B[39m\n\u001B[32m----> \u001B[39m\u001B[32m1\u001B[39m \u001B[38;5;28;01mfrom\u001B[39;00m\u001B[38;5;250m \u001B[39m\u001B[34;01mdatasets\u001B[39;00m\u001B[38;5;250m \u001B[39m\u001B[38;5;28;01mimport\u001B[39;00m load_dataset\n\u001B[32m      3\u001B[39m data = load_dataset(\u001B[33m\"\u001B[39m\u001B[33mzefang-liu/phishing-email-dataset\u001B[39m\u001B[33m\"\u001B[39m)\n\u001B[32m      5\u001B[39m df = data[\u001B[33m'\u001B[39m\u001B[33mtrain\u001B[39m\u001B[33m'\u001B[39m].to_pandas()\n",
      "\u001B[36mFile \u001B[39m\u001B[32mD:\\.venv\\Lib\\site-packages\\datasets\\__init__.py:17\u001B[39m\n\u001B[32m      1\u001B[39m \u001B[38;5;66;03m# Copyright 2020 The HuggingFace Datasets Authors and the TensorFlow Datasets Authors.\u001B[39;00m\n\u001B[32m      2\u001B[39m \u001B[38;5;66;03m#\u001B[39;00m\n\u001B[32m      3\u001B[39m \u001B[38;5;66;03m# Licensed under the Apache License, Version 2.0 (the \"License\");\u001B[39;00m\n\u001B[32m   (...)\u001B[39m\u001B[32m     12\u001B[39m \u001B[38;5;66;03m# See the License for the specific language governing permissions and\u001B[39;00m\n\u001B[32m     13\u001B[39m \u001B[38;5;66;03m# limitations under the License.\u001B[39;00m\n\u001B[32m     15\u001B[39m __version__ = \u001B[33m\"\u001B[39m\u001B[33m3.5.0\u001B[39m\u001B[33m\"\u001B[39m\n\u001B[32m---> \u001B[39m\u001B[32m17\u001B[39m \u001B[38;5;28;01mfrom\u001B[39;00m\u001B[38;5;250m \u001B[39m\u001B[34;01m.\u001B[39;00m\u001B[34;01marrow_dataset\u001B[39;00m\u001B[38;5;250m \u001B[39m\u001B[38;5;28;01mimport\u001B[39;00m Dataset\n\u001B[32m     18\u001B[39m \u001B[38;5;28;01mfrom\u001B[39;00m\u001B[38;5;250m \u001B[39m\u001B[34;01m.\u001B[39;00m\u001B[34;01marrow_reader\u001B[39;00m\u001B[38;5;250m \u001B[39m\u001B[38;5;28;01mimport\u001B[39;00m ReadInstruction\n\u001B[32m     19\u001B[39m \u001B[38;5;28;01mfrom\u001B[39;00m\u001B[38;5;250m \u001B[39m\u001B[34;01m.\u001B[39;00m\u001B[34;01mbuilder\u001B[39;00m\u001B[38;5;250m \u001B[39m\u001B[38;5;28;01mimport\u001B[39;00m ArrowBasedBuilder, BuilderConfig, DatasetBuilder, GeneratorBasedBuilder\n",
      "\u001B[36mFile \u001B[39m\u001B[32mD:\\.venv\\Lib\\site-packages\\datasets\\arrow_dataset.py:56\u001B[39m\n\u001B[32m     54\u001B[39m \u001B[38;5;28;01mimport\u001B[39;00m\u001B[38;5;250m \u001B[39m\u001B[34;01mfsspec\u001B[39;00m\n\u001B[32m     55\u001B[39m \u001B[38;5;28;01mimport\u001B[39;00m\u001B[38;5;250m \u001B[39m\u001B[34;01mnumpy\u001B[39;00m\u001B[38;5;250m \u001B[39m\u001B[38;5;28;01mas\u001B[39;00m\u001B[38;5;250m \u001B[39m\u001B[34;01mnp\u001B[39;00m\n\u001B[32m---> \u001B[39m\u001B[32m56\u001B[39m \u001B[38;5;28;01mimport\u001B[39;00m\u001B[38;5;250m \u001B[39m\u001B[34;01mpandas\u001B[39;00m\u001B[38;5;250m \u001B[39m\u001B[38;5;28;01mas\u001B[39;00m\u001B[38;5;250m \u001B[39m\u001B[34;01mpd\u001B[39;00m\n\u001B[32m     57\u001B[39m \u001B[38;5;28;01mimport\u001B[39;00m\u001B[38;5;250m \u001B[39m\u001B[34;01mpyarrow\u001B[39;00m\u001B[38;5;250m \u001B[39m\u001B[38;5;28;01mas\u001B[39;00m\u001B[38;5;250m \u001B[39m\u001B[34;01mpa\u001B[39;00m\n\u001B[32m     58\u001B[39m \u001B[38;5;28;01mimport\u001B[39;00m\u001B[38;5;250m \u001B[39m\u001B[34;01mpyarrow\u001B[39;00m\u001B[34;01m.\u001B[39;00m\u001B[34;01mcompute\u001B[39;00m\u001B[38;5;250m \u001B[39m\u001B[38;5;28;01mas\u001B[39;00m\u001B[38;5;250m \u001B[39m\u001B[34;01mpc\u001B[39;00m\n",
      "\u001B[36mFile \u001B[39m\u001B[32mD:\\.venv\\Lib\\site-packages\\pandas\\__init__.py:62\u001B[39m\n\u001B[32m     59\u001B[39m \u001B[38;5;66;03m# let init-time option registration happen\u001B[39;00m\n\u001B[32m     60\u001B[39m \u001B[38;5;28;01mimport\u001B[39;00m\u001B[38;5;250m \u001B[39m\u001B[34;01mpandas\u001B[39;00m\u001B[34;01m.\u001B[39;00m\u001B[34;01mcore\u001B[39;00m\u001B[34;01m.\u001B[39;00m\u001B[34;01mconfig_init\u001B[39;00m  \u001B[38;5;66;03m# pyright: ignore[reportUnusedImport] # noqa: F401\u001B[39;00m\n\u001B[32m---> \u001B[39m\u001B[32m62\u001B[39m \u001B[38;5;28;01mfrom\u001B[39;00m\u001B[38;5;250m \u001B[39m\u001B[34;01mpandas\u001B[39;00m\u001B[34;01m.\u001B[39;00m\u001B[34;01mcore\u001B[39;00m\u001B[34;01m.\u001B[39;00m\u001B[34;01mapi\u001B[39;00m\u001B[38;5;250m \u001B[39m\u001B[38;5;28;01mimport\u001B[39;00m (\n\u001B[32m     63\u001B[39m     \u001B[38;5;66;03m# dtype\u001B[39;00m\n\u001B[32m     64\u001B[39m     ArrowDtype,\n\u001B[32m     65\u001B[39m     Int8Dtype,\n\u001B[32m     66\u001B[39m     Int16Dtype,\n\u001B[32m     67\u001B[39m     Int32Dtype,\n\u001B[32m     68\u001B[39m     Int64Dtype,\n\u001B[32m     69\u001B[39m     UInt8Dtype,\n\u001B[32m     70\u001B[39m     UInt16Dtype,\n\u001B[32m     71\u001B[39m     UInt32Dtype,\n\u001B[32m     72\u001B[39m     UInt64Dtype,\n\u001B[32m     73\u001B[39m     Float32Dtype,\n\u001B[32m     74\u001B[39m     Float64Dtype,\n\u001B[32m     75\u001B[39m     CategoricalDtype,\n\u001B[32m     76\u001B[39m     PeriodDtype,\n\u001B[32m     77\u001B[39m     IntervalDtype,\n\u001B[32m     78\u001B[39m     DatetimeTZDtype,\n\u001B[32m     79\u001B[39m     StringDtype,\n\u001B[32m     80\u001B[39m     BooleanDtype,\n\u001B[32m     81\u001B[39m     \u001B[38;5;66;03m# missing\u001B[39;00m\n\u001B[32m     82\u001B[39m     NA,\n\u001B[32m     83\u001B[39m     isna,\n\u001B[32m     84\u001B[39m     isnull,\n\u001B[32m     85\u001B[39m     notna,\n\u001B[32m     86\u001B[39m     notnull,\n\u001B[32m     87\u001B[39m     \u001B[38;5;66;03m# indexes\u001B[39;00m\n\u001B[32m     88\u001B[39m     Index,\n\u001B[32m     89\u001B[39m     CategoricalIndex,\n\u001B[32m     90\u001B[39m     RangeIndex,\n\u001B[32m     91\u001B[39m     MultiIndex,\n\u001B[32m     92\u001B[39m     IntervalIndex,\n\u001B[32m     93\u001B[39m     TimedeltaIndex,\n\u001B[32m     94\u001B[39m     DatetimeIndex,\n\u001B[32m     95\u001B[39m     PeriodIndex,\n\u001B[32m     96\u001B[39m     IndexSlice,\n\u001B[32m     97\u001B[39m     \u001B[38;5;66;03m# tseries\u001B[39;00m\n\u001B[32m     98\u001B[39m     NaT,\n\u001B[32m     99\u001B[39m     Period,\n\u001B[32m    100\u001B[39m     period_range,\n\u001B[32m    101\u001B[39m     Timedelta,\n\u001B[32m    102\u001B[39m     timedelta_range,\n\u001B[32m    103\u001B[39m     Timestamp,\n\u001B[32m    104\u001B[39m     date_range,\n\u001B[32m    105\u001B[39m     bdate_range,\n\u001B[32m    106\u001B[39m     Interval,\n\u001B[32m    107\u001B[39m     interval_range,\n\u001B[32m    108\u001B[39m     DateOffset,\n\u001B[32m    109\u001B[39m     \u001B[38;5;66;03m# conversion\u001B[39;00m\n\u001B[32m    110\u001B[39m     to_numeric,\n\u001B[32m    111\u001B[39m     to_datetime,\n\u001B[32m    112\u001B[39m     to_timedelta,\n\u001B[32m    113\u001B[39m     \u001B[38;5;66;03m# misc\u001B[39;00m\n\u001B[32m    114\u001B[39m     Flags,\n\u001B[32m    115\u001B[39m     Grouper,\n\u001B[32m    116\u001B[39m     factorize,\n\u001B[32m    117\u001B[39m     unique,\n\u001B[32m    118\u001B[39m     value_counts,\n\u001B[32m    119\u001B[39m     NamedAgg,\n\u001B[32m    120\u001B[39m     array,\n\u001B[32m    121\u001B[39m     Categorical,\n\u001B[32m    122\u001B[39m     set_eng_float_format,\n\u001B[32m    123\u001B[39m     Series,\n\u001B[32m    124\u001B[39m     DataFrame,\n\u001B[32m    125\u001B[39m )\n\u001B[32m    127\u001B[39m \u001B[38;5;28;01mfrom\u001B[39;00m\u001B[38;5;250m \u001B[39m\u001B[34;01mpandas\u001B[39;00m\u001B[34;01m.\u001B[39;00m\u001B[34;01mcore\u001B[39;00m\u001B[34;01m.\u001B[39;00m\u001B[34;01mdtypes\u001B[39;00m\u001B[34;01m.\u001B[39;00m\u001B[34;01mdtypes\u001B[39;00m\u001B[38;5;250m \u001B[39m\u001B[38;5;28;01mimport\u001B[39;00m SparseDtype\n\u001B[32m    129\u001B[39m \u001B[38;5;28;01mfrom\u001B[39;00m\u001B[38;5;250m \u001B[39m\u001B[34;01mpandas\u001B[39;00m\u001B[34;01m.\u001B[39;00m\u001B[34;01mtseries\u001B[39;00m\u001B[34;01m.\u001B[39;00m\u001B[34;01mapi\u001B[39;00m\u001B[38;5;250m \u001B[39m\u001B[38;5;28;01mimport\u001B[39;00m infer_freq\n",
      "\u001B[36mFile \u001B[39m\u001B[32mD:\\.venv\\Lib\\site-packages\\pandas\\core\\api.py:1\u001B[39m\n\u001B[32m----> \u001B[39m\u001B[32m1\u001B[39m \u001B[38;5;28;01mfrom\u001B[39;00m\u001B[38;5;250m \u001B[39m\u001B[34;01mpandas\u001B[39;00m\u001B[34;01m.\u001B[39;00m\u001B[34;01m_libs\u001B[39;00m\u001B[38;5;250m \u001B[39m\u001B[38;5;28;01mimport\u001B[39;00m (\n\u001B[32m      2\u001B[39m     NaT,\n\u001B[32m      3\u001B[39m     Period,\n\u001B[32m      4\u001B[39m     Timedelta,\n\u001B[32m      5\u001B[39m     Timestamp,\n\u001B[32m      6\u001B[39m )\n\u001B[32m      7\u001B[39m \u001B[38;5;28;01mfrom\u001B[39;00m\u001B[38;5;250m \u001B[39m\u001B[34;01mpandas\u001B[39;00m\u001B[34;01m.\u001B[39;00m\u001B[34;01m_libs\u001B[39;00m\u001B[34;01m.\u001B[39;00m\u001B[34;01mmissing\u001B[39;00m\u001B[38;5;250m \u001B[39m\u001B[38;5;28;01mimport\u001B[39;00m NA\n\u001B[32m      9\u001B[39m \u001B[38;5;28;01mfrom\u001B[39;00m\u001B[38;5;250m \u001B[39m\u001B[34;01mpandas\u001B[39;00m\u001B[34;01m.\u001B[39;00m\u001B[34;01mcore\u001B[39;00m\u001B[34;01m.\u001B[39;00m\u001B[34;01mdtypes\u001B[39;00m\u001B[34;01m.\u001B[39;00m\u001B[34;01mdtypes\u001B[39;00m\u001B[38;5;250m \u001B[39m\u001B[38;5;28;01mimport\u001B[39;00m (\n\u001B[32m     10\u001B[39m     ArrowDtype,\n\u001B[32m     11\u001B[39m     CategoricalDtype,\n\u001B[32m   (...)\u001B[39m\u001B[32m     14\u001B[39m     PeriodDtype,\n\u001B[32m     15\u001B[39m )\n",
      "\u001B[36mFile \u001B[39m\u001B[32mD:\\.venv\\Lib\\site-packages\\pandas\\_libs\\__init__.py:18\u001B[39m\n\u001B[32m     16\u001B[39m \u001B[38;5;28;01mimport\u001B[39;00m\u001B[38;5;250m \u001B[39m\u001B[34;01mpandas\u001B[39;00m\u001B[34;01m.\u001B[39;00m\u001B[34;01m_libs\u001B[39;00m\u001B[34;01m.\u001B[39;00m\u001B[34;01mpandas_parser\u001B[39;00m  \u001B[38;5;66;03m# isort: skip # type: ignore[reportUnusedImport]\u001B[39;00m\n\u001B[32m     17\u001B[39m \u001B[38;5;28;01mimport\u001B[39;00m\u001B[38;5;250m \u001B[39m\u001B[34;01mpandas\u001B[39;00m\u001B[34;01m.\u001B[39;00m\u001B[34;01m_libs\u001B[39;00m\u001B[34;01m.\u001B[39;00m\u001B[34;01mpandas_datetime\u001B[39;00m  \u001B[38;5;66;03m# noqa: F401 # isort: skip # type: ignore[reportUnusedImport]\u001B[39;00m\n\u001B[32m---> \u001B[39m\u001B[32m18\u001B[39m \u001B[38;5;28;01mfrom\u001B[39;00m\u001B[38;5;250m \u001B[39m\u001B[34;01mpandas\u001B[39;00m\u001B[34;01m.\u001B[39;00m\u001B[34;01m_libs\u001B[39;00m\u001B[34;01m.\u001B[39;00m\u001B[34;01minterval\u001B[39;00m\u001B[38;5;250m \u001B[39m\u001B[38;5;28;01mimport\u001B[39;00m Interval\n\u001B[32m     19\u001B[39m \u001B[38;5;28;01mfrom\u001B[39;00m\u001B[38;5;250m \u001B[39m\u001B[34;01mpandas\u001B[39;00m\u001B[34;01m.\u001B[39;00m\u001B[34;01m_libs\u001B[39;00m\u001B[34;01m.\u001B[39;00m\u001B[34;01mtslibs\u001B[39;00m\u001B[38;5;250m \u001B[39m\u001B[38;5;28;01mimport\u001B[39;00m (\n\u001B[32m     20\u001B[39m     NaT,\n\u001B[32m     21\u001B[39m     NaTType,\n\u001B[32m   (...)\u001B[39m\u001B[32m     26\u001B[39m     iNaT,\n\u001B[32m     27\u001B[39m )\n",
      "\u001B[36mFile \u001B[39m\u001B[32mpandas\\_libs\\interval.pyx:1\u001B[39m, in \u001B[36minit pandas._libs.interval\u001B[39m\u001B[34m()\u001B[39m\n",
      "\u001B[31mValueError\u001B[39m: numpy.dtype size changed, may indicate binary incompatibility. Expected 96 from C header, got 88 from PyObject"
     ]
    }
   ],
   "execution_count": 2
  },
  {
   "cell_type": "code",
   "id": "initial_id",
   "metadata": {
    "collapsed": true,
    "ExecuteTime": {
     "end_time": "2025-04-03T20:18:30.592125Z",
     "start_time": "2025-04-03T20:18:30.570915Z"
    }
   },
   "source": [
    "# Cell 1: Load and prepare your original dataset\n",
    "import pandas as pd\n",
    "import numpy as np\n",
    "from sklearn.utils import resample\n",
    "from imblearn.over_sampling import SMOTE\n",
    "from sklearn.model_selection import train_test_split\n",
    "from sklearn.feature_extraction.text import TfidfVectorizer\n",
    "\n",
    "# Assuming your dataset is already loaded as 'df'\n",
    "# with columns 'Email Text' and 'Email Type'\n",
    "print(\"Original dataset distribution:\")\n",
    "print(df['Email Type'].value_counts())\n",
    "\n",
    "# Convert labels to numerical format for deep learning\n",
    "label_map = {'Safe Email': 0, 'Phishing Email': 1}\n",
    "df_dl = df.copy()\n",
    "df_dl['label'] = df_dl['Email Type'].map(label_map)"
   ],
   "outputs": [
    {
     "ename": "ModuleNotFoundError",
     "evalue": "No module named 'imblearn'",
     "output_type": "error",
     "traceback": [
      "\u001B[31m---------------------------------------------------------------------------\u001B[39m",
      "\u001B[31mModuleNotFoundError\u001B[39m                       Traceback (most recent call last)",
      "\u001B[36mCell\u001B[39m\u001B[36m \u001B[39m\u001B[32mIn[3]\u001B[39m\u001B[32m, line 5\u001B[39m\n\u001B[32m      3\u001B[39m \u001B[38;5;28;01mimport\u001B[39;00m\u001B[38;5;250m \u001B[39m\u001B[34;01mnumpy\u001B[39;00m\u001B[38;5;250m \u001B[39m\u001B[38;5;28;01mas\u001B[39;00m\u001B[38;5;250m \u001B[39m\u001B[34;01mnp\u001B[39;00m\n\u001B[32m      4\u001B[39m \u001B[38;5;28;01mfrom\u001B[39;00m\u001B[38;5;250m \u001B[39m\u001B[34;01msklearn\u001B[39;00m\u001B[34;01m.\u001B[39;00m\u001B[34;01mutils\u001B[39;00m\u001B[38;5;250m \u001B[39m\u001B[38;5;28;01mimport\u001B[39;00m resample\n\u001B[32m----> \u001B[39m\u001B[32m5\u001B[39m \u001B[38;5;28;01mfrom\u001B[39;00m\u001B[38;5;250m \u001B[39m\u001B[34;01mimblearn\u001B[39;00m\u001B[34;01m.\u001B[39;00m\u001B[34;01mover_sampling\u001B[39;00m\u001B[38;5;250m \u001B[39m\u001B[38;5;28;01mimport\u001B[39;00m SMOTE\n\u001B[32m      6\u001B[39m \u001B[38;5;28;01mfrom\u001B[39;00m\u001B[38;5;250m \u001B[39m\u001B[34;01msklearn\u001B[39;00m\u001B[34;01m.\u001B[39;00m\u001B[34;01mmodel_selection\u001B[39;00m\u001B[38;5;250m \u001B[39m\u001B[38;5;28;01mimport\u001B[39;00m train_test_split\n\u001B[32m      7\u001B[39m \u001B[38;5;28;01mfrom\u001B[39;00m\u001B[38;5;250m \u001B[39m\u001B[34;01msklearn\u001B[39;00m\u001B[34;01m.\u001B[39;00m\u001B[34;01mfeature_extraction\u001B[39;00m\u001B[34;01m.\u001B[39;00m\u001B[34;01mtext\u001B[39;00m\u001B[38;5;250m \u001B[39m\u001B[38;5;28;01mimport\u001B[39;00m TfidfVectorizer\n",
      "\u001B[31mModuleNotFoundError\u001B[39m: No module named 'imblearn'"
     ]
    }
   ],
   "execution_count": 3
  },
  {
   "metadata": {},
   "cell_type": "code",
   "outputs": [],
   "execution_count": null,
   "source": "# Balance the dataset to be used in testing ML / DL models\n",
   "id": "f37c41703310bf3c"
  }
 ],
 "metadata": {
  "kernelspec": {
   "display_name": "Python 3",
   "language": "python",
   "name": "python3"
  },
  "language_info": {
   "codemirror_mode": {
    "name": "ipython",
    "version": 2
   },
   "file_extension": ".py",
   "mimetype": "text/x-python",
   "name": "python",
   "nbconvert_exporter": "python",
   "pygments_lexer": "ipython2",
   "version": "2.7.6"
  }
 },
 "nbformat": 4,
 "nbformat_minor": 5
}
