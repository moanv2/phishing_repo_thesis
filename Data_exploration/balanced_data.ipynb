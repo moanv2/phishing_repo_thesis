{
 "cells": [
  {
   "cell_type": "code",
   "id": "initial_id",
   "metadata": {
    "collapsed": true,
    "ExecuteTime": {
     "end_time": "2025-04-03T21:06:32.679353Z",
     "start_time": "2025-04-03T21:06:32.674393Z"
    }
   },
   "source": [
    "import numpy\n",
    "print(numpy.__version__)"
   ],
   "outputs": [
    {
     "name": "stdout",
     "output_type": "stream",
     "text": [
      "1.23.5\n"
     ]
    }
   ],
   "execution_count": 1
  },
  {
   "metadata": {
    "ExecuteTime": {
     "end_time": "2025-04-03T21:07:09.574810Z",
     "start_time": "2025-04-03T21:07:00.564403Z"
    }
   },
   "cell_type": "code",
   "source": [
    "from datasets import load_dataset\n",
    "\n",
    "data = load_dataset(\"zefang-liu/phishing-email-dataset\")\n",
    "\n",
    "df = data['train'].to_pandas()\n",
    "\n",
    "print(df.head())\n",
    "print(df.info)\n",
    "print(df.shape)\n",
    "print(df.columns)"
   ],
   "id": "5b9b6b27d7c230ac",
   "outputs": [
    {
     "name": "stdout",
     "output_type": "stream",
     "text": [
      "   Unnamed: 0                                         Email Text  \\\n",
      "0           0  re : 6 . 1100 , disc : uniformitarianism , re ...   \n",
      "1           1  the other side of * galicismos * * galicismo *...   \n",
      "2           2  re : equistar deal tickets are you still avail...   \n",
      "3           3  \\nHello I am your hot lil horny toy.\\n    I am...   \n",
      "4           4  software at incredibly low prices ( 86 % lower...   \n",
      "\n",
      "       Email Type  \n",
      "0      Safe Email  \n",
      "1      Safe Email  \n",
      "2      Safe Email  \n",
      "3  Phishing Email  \n",
      "4  Phishing Email  \n",
      "<bound method DataFrame.info of        Unnamed: 0                                         Email Text  \\\n",
      "0               0  re : 6 . 1100 , disc : uniformitarianism , re ...   \n",
      "1               1  the other side of * galicismos * * galicismo *...   \n",
      "2               2  re : equistar deal tickets are you still avail...   \n",
      "3               3  \\nHello I am your hot lil horny toy.\\n    I am...   \n",
      "4               4  software at incredibly low prices ( 86 % lower...   \n",
      "...           ...                                                ...   \n",
      "18645       18646  date a lonely housewife always wanted to date ...   \n",
      "18646       18647  request submitted : access request for anita ....   \n",
      "18647       18648  re : important - prc mtg hi dorn & john , as y...   \n",
      "18648       18649  press clippings - letter on californian utilit...   \n",
      "18649       18650                                              empty   \n",
      "\n",
      "           Email Type  \n",
      "0          Safe Email  \n",
      "1          Safe Email  \n",
      "2          Safe Email  \n",
      "3      Phishing Email  \n",
      "4      Phishing Email  \n",
      "...               ...  \n",
      "18645  Phishing Email  \n",
      "18646      Safe Email  \n",
      "18647      Safe Email  \n",
      "18648      Safe Email  \n",
      "18649  Phishing Email  \n",
      "\n",
      "[18650 rows x 3 columns]>\n",
      "(18650, 3)\n",
      "Index(['Unnamed: 0', 'Email Text', 'Email Type'], dtype='object')\n"
     ]
    }
   ],
   "execution_count": 2
  }
 ],
 "metadata": {
  "kernelspec": {
   "display_name": "Python 3",
   "language": "python",
   "name": "python3"
  },
  "language_info": {
   "codemirror_mode": {
    "name": "ipython",
    "version": 2
   },
   "file_extension": ".py",
   "mimetype": "text/x-python",
   "name": "python",
   "nbconvert_exporter": "python",
   "pygments_lexer": "ipython2",
   "version": "2.7.6"
  }
 },
 "nbformat": 4,
 "nbformat_minor": 5
}
