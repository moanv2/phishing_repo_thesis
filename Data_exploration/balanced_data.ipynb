{
 "cells": [
  {
   "metadata": {
    "ExecuteTime": {
     "end_time": "2025-04-09T10:43:12.234786Z",
     "start_time": "2025-04-09T10:43:10.447667Z"
    }
   },
   "cell_type": "code",
   "source": [
    "from datasets import load_dataset\n",
    "\n",
    "data = load_dataset(\"zefang-liu/phishing-email-dataset\")\n",
    "\n",
    "df = data['train'].to_pandas()\n",
    "\n",
    "print(df.head())\n",
    "print(df.info)\n",
    "print(df.shape)\n",
    "print(df.columns)"
   ],
   "id": "24a030dc9af6033f",
   "outputs": [
    {
     "name": "stdout",
     "output_type": "stream",
     "text": [
      "   Unnamed: 0                                         Email Text  \\\n",
      "0           0  re : 6 . 1100 , disc : uniformitarianism , re ...   \n",
      "1           1  the other side of * galicismos * * galicismo *...   \n",
      "2           2  re : equistar deal tickets are you still avail...   \n",
      "3           3  \\nHello I am your hot lil horny toy.\\n    I am...   \n",
      "4           4  software at incredibly low prices ( 86 % lower...   \n",
      "\n",
      "       Email Type  \n",
      "0      Safe Email  \n",
      "1      Safe Email  \n",
      "2      Safe Email  \n",
      "3  Phishing Email  \n",
      "4  Phishing Email  \n",
      "<bound method DataFrame.info of        Unnamed: 0                                         Email Text  \\\n",
      "0               0  re : 6 . 1100 , disc : uniformitarianism , re ...   \n",
      "1               1  the other side of * galicismos * * galicismo *...   \n",
      "2               2  re : equistar deal tickets are you still avail...   \n",
      "3               3  \\nHello I am your hot lil horny toy.\\n    I am...   \n",
      "4               4  software at incredibly low prices ( 86 % lower...   \n",
      "...           ...                                                ...   \n",
      "18645       18646  date a lonely housewife always wanted to date ...   \n",
      "18646       18647  request submitted : access request for anita ....   \n",
      "18647       18648  re : important - prc mtg hi dorn & john , as y...   \n",
      "18648       18649  press clippings - letter on californian utilit...   \n",
      "18649       18650                                              empty   \n",
      "\n",
      "           Email Type  \n",
      "0          Safe Email  \n",
      "1          Safe Email  \n",
      "2          Safe Email  \n",
      "3      Phishing Email  \n",
      "4      Phishing Email  \n",
      "...               ...  \n",
      "18645  Phishing Email  \n",
      "18646      Safe Email  \n",
      "18647      Safe Email  \n",
      "18648      Safe Email  \n",
      "18649  Phishing Email  \n",
      "\n",
      "[18650 rows x 3 columns]>\n",
      "(18650, 3)\n",
      "Index(['Unnamed: 0', 'Email Text', 'Email Type'], dtype='object')\n"
     ]
    }
   ],
   "execution_count": 17
  },
  {
   "cell_type": "code",
   "id": "initial_id",
   "metadata": {
    "collapsed": true,
    "ExecuteTime": {
     "end_time": "2025-04-09T10:43:14.813011Z",
     "start_time": "2025-04-09T10:43:14.712641Z"
    }
   },
   "source": [
    "# Cell 1: Load and prepare your original dataset\n",
    "import pandas as pd\n",
    "import numpy as np\n",
    "from sklearn.utils import resample\n",
    "from sklearn.model_selection import train_test_split\n",
    "from sklearn.feature_extraction.text import TfidfVectorizer\n",
    "\n",
    "# Assuming your dataset is already loaded as 'df'\n",
    "# with columns 'Email Text' and 'Email Type'\n",
    "print(\"Original dataset distribution:\")\n",
    "print(df['Email Type'].value_counts())\n",
    "\n",
    "# Convert labels to numerical format for deep learning\n",
    "label_map = {'Safe Email': 0, 'Phishing Email': 1}\n",
    "df_dl = df.copy()\n",
    "df_dl['label'] = df_dl['Email Type'].map(label_map)"
   ],
   "outputs": [
    {
     "name": "stdout",
     "output_type": "stream",
     "text": [
      "Original dataset distribution:\n",
      "Email Type\n",
      "Safe Email        11322\n",
      "Phishing Email     7328\n",
      "Name: count, dtype: int64\n"
     ]
    }
   ],
   "execution_count": 18
  },
  {
   "metadata": {
    "ExecuteTime": {
     "end_time": "2025-04-09T10:43:16.781198Z",
     "start_time": "2025-04-09T10:43:16.774855Z"
    }
   },
   "cell_type": "code",
   "source": [
    "import os\n",
    "\n",
    "# Use your project directory explicitly\n",
    "project_dir = r'D:\\phishing_repo_thesis'  # r prefix for raw string to handle backslashes\n",
    "balanced_dir = os.path.join(project_dir, 'balanced_data_files')\n",
    "os.makedirs(balanced_dir, exist_ok=True)\n",
    "\n",
    "print(f\"Directory created at: {balanced_dir}\")\n"
   ],
   "id": "d957da6507837327",
   "outputs": [
    {
     "name": "stdout",
     "output_type": "stream",
     "text": [
      "Directory created at: D:\\phishing_repo_thesis\\balanced_data_files\n"
     ]
    }
   ],
   "execution_count": 19
  },
  {
   "metadata": {
    "ExecuteTime": {
     "end_time": "2025-04-09T10:43:21.367973Z",
     "start_time": "2025-04-09T10:43:20.324588Z"
    }
   },
   "cell_type": "code",
   "source": [
    "# Cell 2: Create dataframe for deep learning\n",
    "# For deep learning, we'll use class weights instead of resampling\n",
    "# But we'll create train/val/test splits with stratification\n",
    "\n",
    "# Create stratified splits for deep learning\n",
    "# 70% train, 15% validation, 15% test\n",
    "X = df_dl['Email Text']\n",
    "y = df_dl['label']\n",
    "\n",
    "# First split: 85% train+val, 15% test\n",
    "X_temp, X_test_dl, y_temp, y_test_dl = train_test_split(\n",
    "    X, y, test_size=0.15, random_state=42, stratify=y\n",
    ")\n",
    "\n",
    "# Second split: 70% train, 15% validation (from the remaining 85%)\n",
    "X_train_dl, X_val_dl, y_train_dl, y_val_dl = train_test_split(\n",
    "    X_temp, y_temp, test_size=0.15/0.85, random_state=42, stratify=y_temp\n",
    ")\n",
    "\n",
    "# Create final dataframes\n",
    "df_train_dl = pd.DataFrame({'Email Text': X_train_dl, 'label': y_train_dl}).reset_index(drop=True)\n",
    "df_val_dl = pd.DataFrame({'Email Text': X_val_dl, 'label': y_val_dl}).reset_index(drop=True)\n",
    "df_test_dl = pd.DataFrame({'Email Text': X_test_dl, 'label': y_test_dl}).reset_index(drop=True)\n",
    "\n",
    "print(\"\\nDeep Learning datasets created:\")\n",
    "print(f\"Training set: {len(df_train_dl)} samples\")\n",
    "print(f\"Validation set: {len(df_val_dl)} samples\")\n",
    "print(f\"Test set: {len(df_test_dl)} samples\")\n",
    "print(\"Class distribution in training set:\")\n",
    "print(df_train_dl['label'].value_counts())\n",
    "\n",
    "# Calculate class weights for deep learning\n",
    "total_samples = len(df_train_dl)\n",
    "n_classes = 2\n",
    "class_counts = df_train_dl['label'].value_counts().sort_index()\n",
    "class_weights = total_samples / (n_classes * class_counts)\n",
    "print(\"\\nClass weights for deep learning:\")\n",
    "print(class_weights.to_dict())\n",
    "\n",
    "# Save deep learning datasets\n",
    "# Save your files with absolute paths\n",
    "df_train_dl.to_csv(os.path.join(balanced_dir, 'train_dl.csv'), index=False)\n",
    "df_val_dl.to_csv(os.path.join(balanced_dir, 'val_dl.csv'), index=False)\n",
    "df_test_dl.to_csv(os.path.join(balanced_dir, 'test_dl.csv'), index=False)\n",
    "\n",
    "# Print the location so you know where to look\n",
    "print(f\"Files saved to: {balanced_dir}\")"
   ],
   "id": "4973e9de6fd16e04",
   "outputs": [
    {
     "name": "stdout",
     "output_type": "stream",
     "text": [
      "\n",
      "Deep Learning datasets created:\n",
      "Training set: 13054 samples\n",
      "Validation set: 2798 samples\n",
      "Test set: 2798 samples\n",
      "Class distribution in training set:\n",
      "label\n",
      "0    7924\n",
      "1    5130\n",
      "Name: count, dtype: int64\n",
      "\n",
      "Class weights for deep learning:\n",
      "{0: 0.8237001514386674, 1: 1.2723196881091619}\n",
      "Files saved to: D:\\phishing_repo_thesis\\balanced_data_files\n"
     ]
    }
   ],
   "execution_count": 20
  },
  {
   "metadata": {
    "ExecuteTime": {
     "end_time": "2025-04-09T10:43:24.582661Z",
     "start_time": "2025-04-09T10:43:24.578426Z"
    }
   },
   "cell_type": "code",
   "source": [
    "from sklearn.model_selection import train_test_split\n",
    "import os"
   ],
   "id": "5b9b6b27d7c230ac",
   "outputs": [],
   "execution_count": 21
  },
  {
   "metadata": {
    "ExecuteTime": {
     "end_time": "2025-04-09T10:43:26.198832Z",
     "start_time": "2025-04-09T10:43:26.177973Z"
    }
   },
   "cell_type": "code",
   "source": [
    "# ML datasets (Train = 70, Val = 15, Test = 15)\n",
    "\n",
    "# Split 1\n",
    "df_temp, df_test = train_test_split(\n",
    "    df,\n",
    "    test_size=0.15,\n",
    "    random_state=42,\n",
    "    stratify=df['Email Type'],\n",
    ")\n",
    "\n",
    "# Split 2\n",
    "df_train, df_val = train_test_split(\n",
    "    df_temp,\n",
    "    test_size=0.15/0.85,\n",
    "    random_state=42,\n",
    "    stratify=df_temp['Email Type'],\n",
    ")\n"
   ],
   "id": "2f921b6d2f75e02f",
   "outputs": [],
   "execution_count": 22
  },
  {
   "metadata": {
    "ExecuteTime": {
     "end_time": "2025-04-09T10:43:28.431699Z",
     "start_time": "2025-04-09T10:43:28.425690Z"
    }
   },
   "cell_type": "code",
   "source": [
    "# Verify split proportions for ML\n",
    "\n",
    "total = len(df)\n",
    "print(f\"Total samples: {total}\")\n",
    "print(f\"Training: {len(df_train)} ({len(df_train)/total:.1%})\")\n",
    "print(f\"Validation: {len(df_val)} ({len(df_val)/total:.1%})\")\n",
    "print(f\"Testing: {len(df_test)} ({len(df_test)/total:.1%})\")"
   ],
   "id": "1558b289f7f1589d",
   "outputs": [
    {
     "name": "stdout",
     "output_type": "stream",
     "text": [
      "Total samples: 18650\n",
      "Training: 13054 (70.0%)\n",
      "Validation: 2798 (15.0%)\n",
      "Testing: 2798 (15.0%)\n"
     ]
    }
   ],
   "execution_count": 23
  },
  {
   "metadata": {
    "ExecuteTime": {
     "end_time": "2025-04-09T10:43:29.941047Z",
     "start_time": "2025-04-09T10:43:29.931671Z"
    }
   },
   "cell_type": "code",
   "source": [
    "print(\"\\nClass distribution in training set:\")\n",
    "print(df_train['Email Type'].value_counts())\n",
    "print(\"\\nClass distribution in validation set:\")\n",
    "print(df_val['Email Type'].value_counts())\n",
    "print(\"\\nClass distribution in test set:\")\n",
    "print(df_test['Email Type'].value_counts())"
   ],
   "id": "eb2715fbe5db6cb8",
   "outputs": [
    {
     "name": "stdout",
     "output_type": "stream",
     "text": [
      "\n",
      "Class distribution in training set:\n",
      "Email Type\n",
      "Safe Email        7924\n",
      "Phishing Email    5130\n",
      "Name: count, dtype: int64\n",
      "\n",
      "Class distribution in validation set:\n",
      "Email Type\n",
      "Safe Email        1699\n",
      "Phishing Email    1099\n",
      "Name: count, dtype: int64\n",
      "\n",
      "Class distribution in test set:\n",
      "Email Type\n",
      "Safe Email        1699\n",
      "Phishing Email    1099\n",
      "Name: count, dtype: int64\n"
     ]
    }
   ],
   "execution_count": 24
  },
  {
   "metadata": {
    "ExecuteTime": {
     "end_time": "2025-04-09T10:43:32.792388Z",
     "start_time": "2025-04-09T10:43:31.781383Z"
    }
   },
   "cell_type": "code",
   "source": [
    "# Save original raw data\n",
    "df_train.to_csv(os.path.join(balanced_dir, 'train_raw.csv'), index=False)\n",
    "df_val.to_csv(os.path.join(balanced_dir, 'val_raw.csv'), index=False)\n",
    "df_test.to_csv(os.path.join(balanced_dir, 'test_raw.csv'), index=False)"
   ],
   "id": "5c595597092263f2",
   "outputs": [],
   "execution_count": 25
  },
  {
   "metadata": {},
   "cell_type": "code",
   "outputs": [],
   "execution_count": null,
   "source": "",
   "id": "c0496f596ec197ab"
  }
 ],
 "metadata": {
  "kernelspec": {
   "display_name": "Python 3",
   "language": "python",
   "name": "python3"
  },
  "language_info": {
   "codemirror_mode": {
    "name": "ipython",
    "version": 2
   },
   "file_extension": ".py",
   "mimetype": "text/x-python",
   "name": "python",
   "nbconvert_exporter": "python",
   "pygments_lexer": "ipython2",
   "version": "2.7.6"
  }
 },
 "nbformat": 4,
 "nbformat_minor": 5
}
